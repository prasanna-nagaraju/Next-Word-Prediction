{
  "cells": [
    {
      "cell_type": "markdown",
      "metadata": {
        "id": "view-in-github",
        "colab_type": "text"
      },
      "source": [
        "<a href=\"https://colab.research.google.com/github/prasanna-nagaraju/Next-Word-Prediction/blob/main/Next_Word_Prediction_Using_LSTM.ipynb\" target=\"_parent\"><img src=\"https://colab.research.google.com/assets/colab-badge.svg\" alt=\"Open In Colab\"/></a>"
      ]
    },
    {
      "cell_type": "markdown",
      "metadata": {
        "id": "8ylJYwemFCNp"
      },
      "source": [
        "# 📚 **Shakespeare-Hamlet Next Word Prediction using LSTM** 🎭\n",
        "\n",
        "Welcome to the **Shakespeare-Hamlet Next Word Prediction** project! This project utilizes an LSTM (Long Short-Term Memory) neural network to predict the next word in a sequence based on the text of *Hamlet* by William Shakespeare. The goal is to generate Shakespearean text using an AI model trained on the play’s data.\n",
        "\n",
        "## 🧠 **Objective:**\n",
        "Use deep learning with an LSTM model to predict the next word in Shakespeare's *Hamlet* text. By providing a seed phrase, the model will predict and complete the next words in Shakespearean style! ✨\n",
        "\n",
        "---"
      ]
    },
    {
      "cell_type": "markdown",
      "metadata": {
        "id": "mLUAMoDZFCN4"
      },
      "source": [
        "\n",
        "## 🔧 **Project Setup**\n",
        "\n",
        "### 1. **Load the Text (Hamlet) 📜:**"
      ]
    },
    {
      "cell_type": "code",
      "execution_count": 5,
      "metadata": {
        "execution": {
          "iopub.execute_input": "2024-09-23T08:54:25.146939Z",
          "iopub.status.busy": "2024-09-23T08:54:25.146424Z",
          "iopub.status.idle": "2024-09-23T08:54:25.154349Z",
          "shell.execute_reply": "2024-09-23T08:54:25.153213Z",
          "shell.execute_reply.started": "2024-09-23T08:54:25.146880Z"
        },
        "trusted": true,
        "id": "9mn09R8HFCN6"
      },
      "outputs": [],
      "source": [
        "import pandas as pd\n",
        "import numpy as np\n",
        "import tensorflow as tf\n",
        "from tensorflow.keras.preprocessing.text import Tokenizer\n",
        "from tensorflow.keras.preprocessing.sequence import pad_sequences\n",
        "from tensorflow.keras.utils import to_categorical\n",
        "from tensorflow.keras.models import Sequential\n",
        "from tensorflow.keras.layers import Embedding, LSTM, Dense\n",
        "import matplotlib.pyplot as plt"
      ]
    },
    {
      "cell_type": "code",
      "execution_count": null,
      "metadata": {
        "execution": {
          "iopub.execute_input": "2024-09-23T08:54:29.628837Z",
          "iopub.status.busy": "2024-09-23T08:54:29.628389Z",
          "iopub.status.idle": "2024-09-23T08:54:29.635950Z",
          "shell.execute_reply": "2024-09-23T08:54:29.634921Z",
          "shell.execute_reply.started": "2024-09-23T08:54:29.628792Z"
        },
        "trusted": true,
        "id": "f7JzOVyiFCN9",
        "outputId": "5d24c301-68bf-4247-d426-6c5e43934784"
      },
      "outputs": [
        {
          "data": {
            "text/plain": [
              "'2.15.0'"
            ]
          },
          "execution_count": 5,
          "metadata": {},
          "output_type": "execute_result"
        }
      ],
      "source": [
        "tf.__version__"
      ]
    },
    {
      "cell_type": "code",
      "execution_count": 6,
      "metadata": {
        "execution": {
          "iopub.execute_input": "2024-09-23T08:50:54.863297Z",
          "iopub.status.busy": "2024-09-23T08:50:54.862218Z",
          "iopub.status.idle": "2024-09-23T08:50:54.874250Z",
          "shell.execute_reply": "2024-09-23T08:50:54.873082Z",
          "shell.execute_reply.started": "2024-09-23T08:50:54.863242Z"
        },
        "trusted": true,
        "id": "-KPvDt_CFCN_",
        "colab": {
          "base_uri": "https://localhost:8080/",
          "height": 158
        },
        "outputId": "c96068a2-0fe2-4181-a38a-c5301d5bdeae"
      },
      "outputs": [
        {
          "output_type": "error",
          "ename": "FileNotFoundError",
          "evalue": "[Errno 2] No such file or directory: 'shakespeare-hamlet.txt'",
          "traceback": [
            "\u001b[0;31m---------------------------------------------------------------------------\u001b[0m",
            "\u001b[0;31mFileNotFoundError\u001b[0m                         Traceback (most recent call last)",
            "\u001b[0;32m/tmp/ipython-input-759485316.py\u001b[0m in \u001b[0;36m<cell line: 0>\u001b[0;34m()\u001b[0m\n\u001b[0;32m----> 1\u001b[0;31m \u001b[0;32mwith\u001b[0m \u001b[0mopen\u001b[0m\u001b[0;34m(\u001b[0m\u001b[0;34m'shakespeare-hamlet.txt'\u001b[0m\u001b[0;34m,\u001b[0m \u001b[0;34m'r'\u001b[0m\u001b[0;34m)\u001b[0m \u001b[0;32mas\u001b[0m \u001b[0mfile\u001b[0m\u001b[0;34m:\u001b[0m\u001b[0;34m\u001b[0m\u001b[0;34m\u001b[0m\u001b[0m\n\u001b[0m\u001b[1;32m      2\u001b[0m     \u001b[0mdocs\u001b[0m \u001b[0;34m=\u001b[0m \u001b[0mfile\u001b[0m\u001b[0;34m.\u001b[0m\u001b[0mread\u001b[0m\u001b[0;34m(\u001b[0m\u001b[0;34m)\u001b[0m\u001b[0;34m\u001b[0m\u001b[0;34m\u001b[0m\u001b[0m\n",
            "\u001b[0;31mFileNotFoundError\u001b[0m: [Errno 2] No such file or directory: 'shakespeare-hamlet.txt'"
          ]
        }
      ],
      "source": [
        "with open('shakespeare-hamlet.txt', 'r') as file:\n",
        "    docs = file.read()"
      ]
    },
    {
      "cell_type": "code",
      "execution_count": null,
      "metadata": {
        "execution": {
          "iopub.execute_input": "2024-09-23T08:50:54.876075Z",
          "iopub.status.busy": "2024-09-23T08:50:54.875658Z",
          "iopub.status.idle": "2024-09-23T08:50:54.882873Z",
          "shell.execute_reply": "2024-09-23T08:50:54.881658Z",
          "shell.execute_reply.started": "2024-09-23T08:50:54.876027Z"
        },
        "trusted": true,
        "colab": {
          "base_uri": "https://localhost:8080/"
        },
        "id": "4r1_cwYhFCOA",
        "outputId": "ef1be377-d18e-413c-a5ca-92c952b430eb"
      },
      "outputs": [
        {
          "output_type": "stream",
          "name": "stdout",
          "text": [
            "[The Tragedie of Hamlet by William Shakespeare 1599]\n",
            "\n",
            "\n",
            "Actus Primus. Scoena Prima.\n",
            "\n",
            "Enter Barnardo and Francisco two Centinels.\n",
            "\n",
            "  Barnardo. Who's there?\n",
            "  Fran. Nay answer me: Stand & vnfold\n",
            "your selfe\n",
            "\n",
            "   Bar. Long liue the King\n",
            "\n",
            "   Fran. Barnardo?\n",
            "  Bar. He\n",
            "\n",
            "   Fran. You come most carefully vpon your houre\n",
            "\n",
            "   Bar. 'Tis now strook twelue, get thee to bed Francisco\n",
            "\n",
            "   Fran. For this releefe much thankes: 'Tis bitter cold,\n",
            "And I am sicke at heart\n",
            "\n",
            "   Barn. Haue you had quiet Guard?\n",
            "  Fran. Not\n"
          ]
        }
      ],
      "source": [
        "print(docs[:500])"
      ]
    },
    {
      "cell_type": "markdown",
      "metadata": {
        "id": "xy9hUlC3FCOB"
      },
      "source": [
        "\n",
        "### 2. **Tokenization & Sequence Generation 🔠:**\n",
        "Convert the text into sequences of words so that the model can learn the next-word prediction based on previous context."
      ]
    },
    {
      "cell_type": "code",
      "execution_count": 4,
      "metadata": {
        "execution": {
          "iopub.execute_input": "2024-09-23T08:50:54.884723Z",
          "iopub.status.busy": "2024-09-23T08:50:54.884303Z",
          "iopub.status.idle": "2024-09-23T08:50:54.891982Z",
          "shell.execute_reply": "2024-09-23T08:50:54.890537Z",
          "shell.execute_reply.started": "2024-09-23T08:50:54.884675Z"
        },
        "trusted": true,
        "id": "NzYlIwwrFCOC",
        "colab": {
          "base_uri": "https://localhost:8080/",
          "height": 141
        },
        "outputId": "e4234554-8f77-4491-a821-967ee4127ce7"
      },
      "outputs": [
        {
          "output_type": "error",
          "ename": "NameError",
          "evalue": "name 'Tokenizer' is not defined",
          "traceback": [
            "\u001b[0;31m---------------------------------------------------------------------------\u001b[0m",
            "\u001b[0;31mNameError\u001b[0m                                 Traceback (most recent call last)",
            "\u001b[0;32m/tmp/ipython-input-864194903.py\u001b[0m in \u001b[0;36m<cell line: 0>\u001b[0;34m()\u001b[0m\n\u001b[0;32m----> 1\u001b[0;31m \u001b[0mtokenizer\u001b[0m \u001b[0;34m=\u001b[0m \u001b[0mTokenizer\u001b[0m\u001b[0;34m(\u001b[0m\u001b[0;34m)\u001b[0m\u001b[0;34m\u001b[0m\u001b[0;34m\u001b[0m\u001b[0m\n\u001b[0m",
            "\u001b[0;31mNameError\u001b[0m: name 'Tokenizer' is not defined"
          ]
        }
      ],
      "source": [
        "tokenizer = Tokenizer()"
      ]
    },
    {
      "cell_type": "code",
      "execution_count": null,
      "metadata": {
        "execution": {
          "iopub.execute_input": "2024-09-23T08:50:54.893904Z",
          "iopub.status.busy": "2024-09-23T08:50:54.893543Z",
          "iopub.status.idle": "2024-09-23T08:50:54.935734Z",
          "shell.execute_reply": "2024-09-23T08:50:54.934638Z",
          "shell.execute_reply.started": "2024-09-23T08:50:54.893867Z"
        },
        "trusted": true,
        "id": "I5ksKNZKFCOD"
      },
      "outputs": [],
      "source": [
        "tokenizer.fit_on_texts([docs])"
      ]
    },
    {
      "cell_type": "code",
      "execution_count": null,
      "metadata": {
        "execution": {
          "iopub.execute_input": "2024-09-23T08:50:54.938026Z",
          "iopub.status.busy": "2024-09-23T08:50:54.937203Z",
          "iopub.status.idle": "2024-09-23T08:50:54.944387Z",
          "shell.execute_reply": "2024-09-23T08:50:54.943229Z",
          "shell.execute_reply.started": "2024-09-23T08:50:54.937980Z"
        },
        "trusted": true,
        "colab": {
          "base_uri": "https://localhost:8080/"
        },
        "id": "1RJw8KPPFCOE",
        "outputId": "bb22a75e-f42b-415f-edbd-84e2e76c3f24"
      },
      "outputs": [
        {
          "output_type": "stream",
          "name": "stdout",
          "text": [
            "Vocabulary size: 4818\n"
          ]
        }
      ],
      "source": [
        "vocab_size = len(tokenizer.word_index) + 1  # Add 1 because word_index starts from 1, but embedding expects from 0\n",
        "print(\"Vocabulary size:\", vocab_size)"
      ]
    },
    {
      "cell_type": "code",
      "execution_count": null,
      "metadata": {
        "execution": {
          "iopub.execute_input": "2024-09-23T08:50:54.946170Z",
          "iopub.status.busy": "2024-09-23T08:50:54.945761Z",
          "iopub.status.idle": "2024-09-23T08:50:54.956086Z",
          "shell.execute_reply": "2024-09-23T08:50:54.954940Z",
          "shell.execute_reply.started": "2024-09-23T08:50:54.946115Z"
        },
        "trusted": true,
        "colab": {
          "base_uri": "https://localhost:8080/"
        },
        "id": "k4QafFCdFCOF",
        "outputId": "2ab7d11f-8d47-4a06-dc39-dbdc3ade30bd"
      },
      "outputs": [
        {
          "output_type": "stream",
          "name": "stdout",
          "text": [
            "finis\n"
          ]
        }
      ],
      "source": [
        "# Inspect the word associated with index 4817 (for verification)\n",
        "for word, index in tokenizer.word_index.items():\n",
        "    if index == 4817:\n",
        "        print(word)"
      ]
    },
    {
      "cell_type": "code",
      "execution_count": null,
      "metadata": {
        "execution": {
          "iopub.execute_input": "2024-09-23T08:50:54.960697Z",
          "iopub.status.busy": "2024-09-23T08:50:54.960244Z",
          "iopub.status.idle": "2024-09-23T08:50:55.043429Z",
          "shell.execute_reply": "2024-09-23T08:50:55.042294Z",
          "shell.execute_reply.started": "2024-09-23T08:50:54.960647Z"
        },
        "trusted": true,
        "id": "lOrprOwkFCOF"
      },
      "outputs": [],
      "source": [
        "# Creating input sequences for training\n",
        "input_seq = []\n",
        "for sentence in docs.split(\"\\n\"):\n",
        "    tokenized_sent = tokenizer.texts_to_sequences([sentence])[0]\n",
        "    # Convert the sentence into a sequence of numbers using the tokenizer\n",
        "    # `texts_to_sequences` returns a list of lists, so we take the first list with `[0]`\n",
        "    for i in range(1, len(tokenized_sent)):  # Iterate over the length of the tokenized sentence\n",
        "        input_seq.append(tokenized_sent[: i + 1]) # Append a growing sublist of the tokenized sentence (from the first token to the i-th token)"
      ]
    },
    {
      "cell_type": "code",
      "execution_count": null,
      "metadata": {
        "execution": {
          "iopub.execute_input": "2024-09-23T08:50:55.045376Z",
          "iopub.status.busy": "2024-09-23T08:50:55.044867Z",
          "iopub.status.idle": "2024-09-23T08:50:55.054373Z",
          "shell.execute_reply": "2024-09-23T08:50:55.053060Z",
          "shell.execute_reply.started": "2024-09-23T08:50:55.045321Z"
        },
        "trusted": true,
        "colab": {
          "base_uri": "https://localhost:8080/"
        },
        "id": "8BPrcFw1FCOG",
        "outputId": "c232401d-ed8f-4885-ed57-6c22911c89bd"
      },
      "outputs": [
        {
          "output_type": "execute_result",
          "data": {
            "text/plain": [
              "[[1, 687],\n",
              " [1, 687, 4],\n",
              " [1, 687, 4, 45],\n",
              " [1, 687, 4, 45, 41],\n",
              " [1, 687, 4, 45, 41, 1886],\n",
              " [1, 687, 4, 45, 41, 1886, 1887],\n",
              " [1, 687, 4, 45, 41, 1886, 1887, 1888],\n",
              " [1180, 1889],\n",
              " [1180, 1889, 1890],\n",
              " [1180, 1889, 1890, 1891]]"
            ]
          },
          "metadata": {},
          "execution_count": 9
        }
      ],
      "source": [
        "input_seq[:10]"
      ]
    },
    {
      "cell_type": "code",
      "execution_count": null,
      "metadata": {
        "execution": {
          "iopub.execute_input": "2024-09-23T08:50:55.056808Z",
          "iopub.status.busy": "2024-09-23T08:50:55.056338Z",
          "iopub.status.idle": "2024-09-23T08:50:55.136429Z",
          "shell.execute_reply": "2024-09-23T08:50:55.135382Z",
          "shell.execute_reply.started": "2024-09-23T08:50:55.056757Z"
        },
        "trusted": true,
        "id": "aGuI02t7FCOH"
      },
      "outputs": [],
      "source": [
        "# Padding the sequences to the maximum length in the dataset\n",
        "max_seq_length = max([len(x) for x in input_seq])\n",
        "padded_input_sequence = pad_sequences(input_seq, maxlen=max_seq_length, padding=\"pre\")"
      ]
    },
    {
      "cell_type": "code",
      "execution_count": null,
      "metadata": {
        "execution": {
          "iopub.execute_input": "2024-09-23T08:50:55.138691Z",
          "iopub.status.busy": "2024-09-23T08:50:55.138219Z",
          "iopub.status.idle": "2024-09-23T08:50:55.144950Z",
          "shell.execute_reply": "2024-09-23T08:50:55.143996Z",
          "shell.execute_reply.started": "2024-09-23T08:50:55.138634Z"
        },
        "trusted": true,
        "colab": {
          "base_uri": "https://localhost:8080/"
        },
        "id": "wtohXmRCFCOH",
        "outputId": "99fe6646-c8b1-4316-9f7b-6336a4870d95"
      },
      "outputs": [
        {
          "output_type": "execute_result",
          "data": {
            "text/plain": [
              "array([  0,   0,   0,   0,   0,   0,   0,   0,   0,   0,   0,   0,   1,\n",
              "       687], dtype=int32)"
            ]
          },
          "metadata": {},
          "execution_count": 11
        }
      ],
      "source": [
        "padded_input_sequence[0]"
      ]
    },
    {
      "cell_type": "code",
      "execution_count": null,
      "metadata": {
        "execution": {
          "iopub.execute_input": "2024-09-23T08:50:55.146450Z",
          "iopub.status.busy": "2024-09-23T08:50:55.146042Z",
          "iopub.status.idle": "2024-09-23T08:50:55.156410Z",
          "shell.execute_reply": "2024-09-23T08:50:55.155221Z",
          "shell.execute_reply.started": "2024-09-23T08:50:55.146403Z"
        },
        "trusted": true,
        "id": "cS8JKGJsFCOI"
      },
      "outputs": [],
      "source": [
        "# Splitting input and output sequences\n",
        "X = padded_input_sequence[:, :-1]\n",
        "y = padded_input_sequence[:, -1]"
      ]
    },
    {
      "cell_type": "code",
      "execution_count": null,
      "metadata": {
        "execution": {
          "iopub.execute_input": "2024-09-23T08:50:55.158584Z",
          "iopub.status.busy": "2024-09-23T08:50:55.158186Z",
          "iopub.status.idle": "2024-09-23T08:50:55.171383Z",
          "shell.execute_reply": "2024-09-23T08:50:55.169775Z",
          "shell.execute_reply.started": "2024-09-23T08:50:55.158539Z"
        },
        "trusted": true,
        "colab": {
          "base_uri": "https://localhost:8080/"
        },
        "id": "Pdd_f1LoFCOI",
        "outputId": "74980d3e-b540-4496-a295-d5aade0729ae"
      },
      "outputs": [
        {
          "output_type": "execute_result",
          "data": {
            "text/plain": [
              "(array([0, 0, 0, 0, 0, 0, 0, 0, 0, 0, 0, 0, 1], dtype=int32), np.int32(687))"
            ]
          },
          "metadata": {},
          "execution_count": 13
        }
      ],
      "source": [
        "X[0],y[0]"
      ]
    },
    {
      "cell_type": "code",
      "execution_count": null,
      "metadata": {
        "execution": {
          "iopub.execute_input": "2024-09-23T08:50:55.173090Z",
          "iopub.status.busy": "2024-09-23T08:50:55.172701Z",
          "iopub.status.idle": "2024-09-23T08:50:55.288405Z",
          "shell.execute_reply": "2024-09-23T08:50:55.287035Z",
          "shell.execute_reply.started": "2024-09-23T08:50:55.173043Z"
        },
        "trusted": true,
        "id": "TRuFq1iNFCOI"
      },
      "outputs": [],
      "source": [
        "# One-hot encoding the output labels (y)\n",
        "y = to_categorical(y, num_classes=vocab_size)"
      ]
    },
    {
      "cell_type": "code",
      "execution_count": null,
      "metadata": {
        "execution": {
          "iopub.execute_input": "2024-09-23T08:50:55.290263Z",
          "iopub.status.busy": "2024-09-23T08:50:55.289892Z",
          "iopub.status.idle": "2024-09-23T08:50:55.299423Z",
          "shell.execute_reply": "2024-09-23T08:50:55.298300Z",
          "shell.execute_reply.started": "2024-09-23T08:50:55.290223Z"
        },
        "trusted": true,
        "colab": {
          "base_uri": "https://localhost:8080/"
        },
        "id": "SDv2bKgbFCOJ",
        "outputId": "7fbaf359-7c73-403a-9c36-0507cb8cc3a5"
      },
      "outputs": [
        {
          "output_type": "execute_result",
          "data": {
            "text/plain": [
              "array([0., 0., 0., ..., 0., 0., 0.])"
            ]
          },
          "metadata": {},
          "execution_count": 15
        }
      ],
      "source": [
        "y[0]"
      ]
    },
    {
      "cell_type": "markdown",
      "metadata": {
        "id": "1IM-ukegFCOJ"
      },
      "source": [
        "\n",
        "### 3. **Build the LSTM Model 🧩:**\n",
        "We use a Sequential model with an Embedding layer followed by an LSTM layer and a Dense output layer."
      ]
    },
    {
      "cell_type": "code",
      "execution_count": null,
      "metadata": {
        "execution": {
          "iopub.execute_input": "2024-09-23T08:50:55.301704Z",
          "iopub.status.busy": "2024-09-23T08:50:55.301260Z",
          "iopub.status.idle": "2024-09-23T08:50:55.321438Z",
          "shell.execute_reply": "2024-09-23T08:50:55.320174Z",
          "shell.execute_reply.started": "2024-09-23T08:50:55.301654Z"
        },
        "trusted": true,
        "id": "v84rGIBOFCOK"
      },
      "outputs": [],
      "source": [
        "# Model Architecture\n",
        "model = Sequential()\n",
        "model.add(Embedding(input_dim=vocab_size, output_dim=100))\n",
        "model.add(LSTM(100))\n",
        "model.add(Dense(vocab_size, activation='softmax'))"
      ]
    },
    {
      "cell_type": "code",
      "execution_count": null,
      "metadata": {
        "execution": {
          "iopub.execute_input": "2024-09-23T08:50:55.324440Z",
          "iopub.status.busy": "2024-09-23T08:50:55.323594Z",
          "iopub.status.idle": "2024-09-23T08:50:55.335897Z",
          "shell.execute_reply": "2024-09-23T08:50:55.334877Z",
          "shell.execute_reply.started": "2024-09-23T08:50:55.324382Z"
        },
        "trusted": true,
        "id": "8bD8CH1lFCOK"
      },
      "outputs": [],
      "source": [
        "# Model Compilation\n",
        "model.compile(loss='categorical_crossentropy', optimizer='adam', metrics=['accuracy'])"
      ]
    },
    {
      "cell_type": "code",
      "execution_count": null,
      "metadata": {
        "execution": {
          "iopub.execute_input": "2024-09-23T08:50:55.338407Z",
          "iopub.status.busy": "2024-09-23T08:50:55.337776Z",
          "iopub.status.idle": "2024-09-23T08:50:55.360249Z",
          "shell.execute_reply": "2024-09-23T08:50:55.359119Z",
          "shell.execute_reply.started": "2024-09-23T08:50:55.338355Z"
        },
        "trusted": true,
        "colab": {
          "base_uri": "https://localhost:8080/",
          "height": 225
        },
        "id": "3YHei-wUFCOK",
        "outputId": "efa35e54-1591-4258-e889-a19c58ab0019"
      },
      "outputs": [
        {
          "output_type": "display_data",
          "data": {
            "text/plain": [
              "\u001b[1mModel: \"sequential\"\u001b[0m\n"
            ],
            "text/html": [
              "<pre style=\"white-space:pre;overflow-x:auto;line-height:normal;font-family:Menlo,'DejaVu Sans Mono',consolas,'Courier New',monospace\"><span style=\"font-weight: bold\">Model: \"sequential\"</span>\n",
              "</pre>\n"
            ]
          },
          "metadata": {}
        },
        {
          "output_type": "display_data",
          "data": {
            "text/plain": [
              "┏━━━━━━━━━━━━━━━━━━━━━━━━━━━━━━━━━┳━━━━━━━━━━━━━━━━━━━━━━━━┳━━━━━━━━━━━━━━━┓\n",
              "┃\u001b[1m \u001b[0m\u001b[1mLayer (type)                   \u001b[0m\u001b[1m \u001b[0m┃\u001b[1m \u001b[0m\u001b[1mOutput Shape          \u001b[0m\u001b[1m \u001b[0m┃\u001b[1m \u001b[0m\u001b[1m      Param #\u001b[0m\u001b[1m \u001b[0m┃\n",
              "┡━━━━━━━━━━━━━━━━━━━━━━━━━━━━━━━━━╇━━━━━━━━━━━━━━━━━━━━━━━━╇━━━━━━━━━━━━━━━┩\n",
              "│ embedding (\u001b[38;5;33mEmbedding\u001b[0m)           │ ?                      │   \u001b[38;5;34m0\u001b[0m (unbuilt) │\n",
              "├─────────────────────────────────┼────────────────────────┼───────────────┤\n",
              "│ lstm (\u001b[38;5;33mLSTM\u001b[0m)                     │ ?                      │   \u001b[38;5;34m0\u001b[0m (unbuilt) │\n",
              "├─────────────────────────────────┼────────────────────────┼───────────────┤\n",
              "│ dense (\u001b[38;5;33mDense\u001b[0m)                   │ ?                      │   \u001b[38;5;34m0\u001b[0m (unbuilt) │\n",
              "└─────────────────────────────────┴────────────────────────┴───────────────┘\n"
            ],
            "text/html": [
              "<pre style=\"white-space:pre;overflow-x:auto;line-height:normal;font-family:Menlo,'DejaVu Sans Mono',consolas,'Courier New',monospace\">┏━━━━━━━━━━━━━━━━━━━━━━━━━━━━━━━━━┳━━━━━━━━━━━━━━━━━━━━━━━━┳━━━━━━━━━━━━━━━┓\n",
              "┃<span style=\"font-weight: bold\"> Layer (type)                    </span>┃<span style=\"font-weight: bold\"> Output Shape           </span>┃<span style=\"font-weight: bold\">       Param # </span>┃\n",
              "┡━━━━━━━━━━━━━━━━━━━━━━━━━━━━━━━━━╇━━━━━━━━━━━━━━━━━━━━━━━━╇━━━━━━━━━━━━━━━┩\n",
              "│ embedding (<span style=\"color: #0087ff; text-decoration-color: #0087ff\">Embedding</span>)           │ ?                      │   <span style=\"color: #00af00; text-decoration-color: #00af00\">0</span> (unbuilt) │\n",
              "├─────────────────────────────────┼────────────────────────┼───────────────┤\n",
              "│ lstm (<span style=\"color: #0087ff; text-decoration-color: #0087ff\">LSTM</span>)                     │ ?                      │   <span style=\"color: #00af00; text-decoration-color: #00af00\">0</span> (unbuilt) │\n",
              "├─────────────────────────────────┼────────────────────────┼───────────────┤\n",
              "│ dense (<span style=\"color: #0087ff; text-decoration-color: #0087ff\">Dense</span>)                   │ ?                      │   <span style=\"color: #00af00; text-decoration-color: #00af00\">0</span> (unbuilt) │\n",
              "└─────────────────────────────────┴────────────────────────┴───────────────┘\n",
              "</pre>\n"
            ]
          },
          "metadata": {}
        },
        {
          "output_type": "display_data",
          "data": {
            "text/plain": [
              "\u001b[1m Total params: \u001b[0m\u001b[38;5;34m0\u001b[0m (0.00 B)\n"
            ],
            "text/html": [
              "<pre style=\"white-space:pre;overflow-x:auto;line-height:normal;font-family:Menlo,'DejaVu Sans Mono',consolas,'Courier New',monospace\"><span style=\"font-weight: bold\"> Total params: </span><span style=\"color: #00af00; text-decoration-color: #00af00\">0</span> (0.00 B)\n",
              "</pre>\n"
            ]
          },
          "metadata": {}
        },
        {
          "output_type": "display_data",
          "data": {
            "text/plain": [
              "\u001b[1m Trainable params: \u001b[0m\u001b[38;5;34m0\u001b[0m (0.00 B)\n"
            ],
            "text/html": [
              "<pre style=\"white-space:pre;overflow-x:auto;line-height:normal;font-family:Menlo,'DejaVu Sans Mono',consolas,'Courier New',monospace\"><span style=\"font-weight: bold\"> Trainable params: </span><span style=\"color: #00af00; text-decoration-color: #00af00\">0</span> (0.00 B)\n",
              "</pre>\n"
            ]
          },
          "metadata": {}
        },
        {
          "output_type": "display_data",
          "data": {
            "text/plain": [
              "\u001b[1m Non-trainable params: \u001b[0m\u001b[38;5;34m0\u001b[0m (0.00 B)\n"
            ],
            "text/html": [
              "<pre style=\"white-space:pre;overflow-x:auto;line-height:normal;font-family:Menlo,'DejaVu Sans Mono',consolas,'Courier New',monospace\"><span style=\"font-weight: bold\"> Non-trainable params: </span><span style=\"color: #00af00; text-decoration-color: #00af00\">0</span> (0.00 B)\n",
              "</pre>\n"
            ]
          },
          "metadata": {}
        }
      ],
      "source": [
        "# Model Summary\n",
        "model.summary()"
      ]
    },
    {
      "cell_type": "code",
      "execution_count": null,
      "metadata": {
        "colab": {
          "base_uri": "https://localhost:8080/"
        },
        "id": "5h6fvlGYFCOL",
        "outputId": "f337f7a6-a53c-4b30-ec18-3bca5d31afcc"
      },
      "outputs": [
        {
          "output_type": "stream",
          "name": "stdout",
          "text": [
            "Epoch 1/10\n",
            "\u001b[1m805/805\u001b[0m \u001b[32m━━━━━━━━━━━━━━━━━━━━\u001b[0m\u001b[37m\u001b[0m \u001b[1m7s\u001b[0m 6ms/step - accuracy: 0.0292 - loss: 7.0754\n",
            "Epoch 2/10\n",
            "\u001b[1m805/805\u001b[0m \u001b[32m━━━━━━━━━━━━━━━━━━━━\u001b[0m\u001b[37m\u001b[0m \u001b[1m5s\u001b[0m 6ms/step - accuracy: 0.0408 - loss: 6.4107\n",
            "Epoch 3/10\n",
            "\u001b[1m805/805\u001b[0m \u001b[32m━━━━━━━━━━━━━━━━━━━━\u001b[0m\u001b[37m\u001b[0m \u001b[1m4s\u001b[0m 6ms/step - accuracy: 0.0539 - loss: 6.2000\n",
            "Epoch 4/10\n",
            "\u001b[1m805/805\u001b[0m \u001b[32m━━━━━━━━━━━━━━━━━━━━\u001b[0m\u001b[37m\u001b[0m \u001b[1m4s\u001b[0m 5ms/step - accuracy: 0.0653 - loss: 5.9613\n",
            "Epoch 5/10\n",
            "\u001b[1m805/805\u001b[0m \u001b[32m━━━━━━━━━━━━━━━━━━━━\u001b[0m\u001b[37m\u001b[0m \u001b[1m5s\u001b[0m 6ms/step - accuracy: 0.0850 - loss: 5.7112\n",
            "Epoch 6/10\n",
            "\u001b[1m805/805\u001b[0m \u001b[32m━━━━━━━━━━━━━━━━━━━━\u001b[0m\u001b[37m\u001b[0m \u001b[1m4s\u001b[0m 5ms/step - accuracy: 0.1010 - loss: 5.4697\n",
            "Epoch 7/10\n",
            "\u001b[1m805/805\u001b[0m \u001b[32m━━━━━━━━━━━━━━━━━━━━\u001b[0m\u001b[37m\u001b[0m \u001b[1m6s\u001b[0m 6ms/step - accuracy: 0.1094 - loss: 5.2443\n",
            "Epoch 8/10\n",
            "\u001b[1m805/805\u001b[0m \u001b[32m━━━━━━━━━━━━━━━━━━━━\u001b[0m\u001b[37m\u001b[0m \u001b[1m4s\u001b[0m 5ms/step - accuracy: 0.1223 - loss: 5.0229\n",
            "Epoch 9/10\n",
            "\u001b[1m805/805\u001b[0m \u001b[32m━━━━━━━━━━━━━━━━━━━━\u001b[0m\u001b[37m\u001b[0m \u001b[1m4s\u001b[0m 5ms/step - accuracy: 0.1358 - loss: 4.8329\n",
            "Epoch 10/10\n",
            "\u001b[1m805/805\u001b[0m \u001b[32m━━━━━━━━━━━━━━━━━━━━\u001b[0m\u001b[37m\u001b[0m \u001b[1m6s\u001b[0m 6ms/step - accuracy: 0.1454 - loss: 4.6334\n"
          ]
        }
      ],
      "source": [
        "history=model.fit(X, y, epochs=10)"
      ]
    },
    {
      "cell_type": "markdown",
      "metadata": {
        "id": "L5PjyB7EFCOL"
      },
      "source": [
        "## 📊 **Plot Training Loss & Accuracy 📈:**\n",
        "Visualize the model’s performance during training."
      ]
    },
    {
      "cell_type": "code",
      "execution_count": null,
      "metadata": {
        "id": "v9dKEsZzFCOL"
      },
      "outputs": [],
      "source": [
        "# Extract loss and accuracy values from the history object\n",
        "loss = history.history['loss']\n",
        "accuracy = history.history['accuracy']\n",
        "epochs = range(1, len(loss) + 1)"
      ]
    },
    {
      "cell_type": "code",
      "execution_count": null,
      "metadata": {
        "id": "3iFVhhdsFCON",
        "outputId": "112a789a-6558-4015-f31f-861ba33db135"
      },
      "outputs": [
        {
          "data": {
            "image/png": "[encoded data removed]",
            "text/plain": [
              "<Figure size 800x600 with 1 Axes>"
            ]
          },
          "metadata": {},
          "output_type": "display_data"
        }
      ],
      "source": [
        "plt.figure(figsize=(8, 6))\n",
        "\n",
        "plt.plot(epochs, loss, 'r', label='Training Loss')\n",
        "plt.plot(epochs, accuracy, 'g', label='Training Accuracy')\n",
        "\n",
        "plt.xlabel('Epochs')\n",
        "plt.ylabel('Value')\n",
        "plt.title('Training Loss and Accuracy per Epoch')\n",
        "plt.legend()\n",
        "\n",
        "plt.show()"
      ]
    },
    {
      "cell_type": "code",
      "execution_count": null,
      "metadata": {
        "id": "pQg34lerFCOO",
        "outputId": "fd69dd8b-1402-46f5-a26d-c2c8ef8684f6"
      },
      "outputs": [
        {
          "name": "stdout",
          "output_type": "stream",
          "text": [
            "805/805 [==============================] - 8s 9ms/step - loss: 0.5614 - accuracy: 0.8498\n"
          ]
        },
        {
          "data": {
            "text/plain": [
              "[0.5614160299301147, 0.8497979044914246]"
            ]
          },
          "execution_count": 33,
          "metadata": {},
          "output_type": "execute_result"
        }
      ],
      "source": [
        "model.evaluate(X,y)"
      ]
    },
    {
      "cell_type": "markdown",
      "metadata": {
        "id": "EjQ73u3pFCOO"
      },
      "source": [
        "\n",
        "## 📝 **Next Word Prediction Function:**\n",
        "You can now predict what comes next in Hamlet’s iconic lines! 🎬\n",
        "\n",
        "---"
      ]
    },
    {
      "cell_type": "code",
      "execution_count": 2,
      "metadata": {
        "id": "r3eby5ETFCOP"
      },
      "outputs": [],
      "source": [
        "def prediction(text:str, n_word:int)->str:\n",
        "    \"\"\"\n",
        "    Predict the next 'n_word' words based on the input 'text'.\n",
        "\n",
        "    Args:\n",
        "    text (str): The input text to seed the prediction.\n",
        "    n_word (int): The number of words to predict and append.\n",
        "\n",
        "    Returns:\n",
        "    str: The input text appended with the predicted words.\n",
        "    \"\"\"\n",
        "\n",
        "    for _ in range(n_word):\n",
        "        # Convert the input text to sequences (tokenized)\n",
        "        token_text = tokenizer.texts_to_sequences([text])[0]\n",
        "\n",
        "        # Pad the sequence to the max sequence length expected by the model\n",
        "        padded_token_input = pad_sequences([token_text], maxlen=max_seq_length, padding=\"pre\")\n",
        "\n",
        "        # Predict the probabilities for the next word\n",
        "        output_prob = model.predict(padded_token_input, verbose=0)\n",
        "\n",
        "        # Find the word with the highest probability\n",
        "        pos = np.argmax(output_prob)\n",
        "\n",
        "        # Map the predicted index back to the corresponding word\n",
        "        for word, index in tokenizer.word_index.items():\n",
        "            if index == pos:\n",
        "                # Append the predicted word to the input text\n",
        "                text = text + \" \" + word\n",
        "                break\n",
        "\n",
        "    return text\n"
      ]
    },
    {
      "cell_type": "code",
      "execution_count": null,
      "metadata": {
        "id": "a7JmgicWFCOP"
      },
      "outputs": [],
      "source": [
        "'''text (str): The input sentence to start the prediction.\n",
        "n_word (int): The number of words to predict.\n",
        "Returns (str): The original text with n_word predicted words appended.\n",
        "\n",
        "Runs n_word times to generate and append words one by one.\n",
        "\n",
        "The tokenizer.texts_to_sequences() function converts the input text into a sequence of numerical tokens.\n",
        "Since texts_to_sequences() returns a list of lists, [0] extracts the first list.\n",
        "\n",
        "Ensures token_text has the same length as expected by the model (max_seq_length).\n",
        "If the sequence is shorter, it is pre-padded with zeros.\n",
        "\n",
        "The trained model predicts the probability distribution for the next word.\n",
        "\n",
        "Loops through the tokenizer's word dictionary to find the word corresponding to pos.\n",
        "\n",
        "Adds the predicted word to the original text.'''"
      ]
    },
    {
      "cell_type": "code",
      "execution_count": 3,
      "metadata": {
        "colab": {
          "base_uri": "https://localhost:8080/",
          "height": 297
        },
        "id": "UBUrWOQjFCOQ",
        "outputId": "e4ece83b-b0a2-441c-e526-cd02e96abbcc"
      },
      "outputs": [
        {
          "output_type": "error",
          "ename": "NameError",
          "evalue": "name 'tokenizer' is not defined",
          "traceback": [
            "\u001b[0;31m---------------------------------------------------------------------------\u001b[0m",
            "\u001b[0;31mNameError\u001b[0m                                 Traceback (most recent call last)",
            "\u001b[0;32m/tmp/ipython-input-1901851222.py\u001b[0m in \u001b[0;36m<cell line: 0>\u001b[0;34m()\u001b[0m\n\u001b[1;32m      1\u001b[0m \u001b[0mtext\u001b[0m\u001b[0;34m=\u001b[0m\u001b[0;34m\"God blesse\"\u001b[0m\u001b[0;34m\u001b[0m\u001b[0;34m\u001b[0m\u001b[0m\n\u001b[1;32m      2\u001b[0m \u001b[0mn_word\u001b[0m\u001b[0;34m=\u001b[0m\u001b[0;36m2\u001b[0m\u001b[0;34m\u001b[0m\u001b[0;34m\u001b[0m\u001b[0m\n\u001b[0;32m----> 3\u001b[0;31m \u001b[0mprediction\u001b[0m\u001b[0;34m(\u001b[0m\u001b[0mtext\u001b[0m\u001b[0;34m,\u001b[0m\u001b[0mn_word\u001b[0m\u001b[0;34m)\u001b[0m\u001b[0;34m\u001b[0m\u001b[0;34m\u001b[0m\u001b[0m\n\u001b[0m",
            "\u001b[0;32m/tmp/ipython-input-930624088.py\u001b[0m in \u001b[0;36mprediction\u001b[0;34m(text, n_word)\u001b[0m\n\u001b[1;32m     13\u001b[0m     \u001b[0;32mfor\u001b[0m \u001b[0m_\u001b[0m \u001b[0;32min\u001b[0m \u001b[0mrange\u001b[0m\u001b[0;34m(\u001b[0m\u001b[0mn_word\u001b[0m\u001b[0;34m)\u001b[0m\u001b[0;34m:\u001b[0m\u001b[0;34m\u001b[0m\u001b[0;34m\u001b[0m\u001b[0m\n\u001b[1;32m     14\u001b[0m         \u001b[0;31m# Convert the input text to sequences (tokenized)\u001b[0m\u001b[0;34m\u001b[0m\u001b[0;34m\u001b[0m\u001b[0m\n\u001b[0;32m---> 15\u001b[0;31m         \u001b[0mtoken_text\u001b[0m \u001b[0;34m=\u001b[0m \u001b[0mtokenizer\u001b[0m\u001b[0;34m.\u001b[0m\u001b[0mtexts_to_sequences\u001b[0m\u001b[0;34m(\u001b[0m\u001b[0;34m[\u001b[0m\u001b[0mtext\u001b[0m\u001b[0;34m]\u001b[0m\u001b[0;34m)\u001b[0m\u001b[0;34m[\u001b[0m\u001b[0;36m0\u001b[0m\u001b[0;34m]\u001b[0m\u001b[0;34m\u001b[0m\u001b[0;34m\u001b[0m\u001b[0m\n\u001b[0m\u001b[1;32m     16\u001b[0m \u001b[0;34m\u001b[0m\u001b[0m\n\u001b[1;32m     17\u001b[0m         \u001b[0;31m# Pad the sequence to the max sequence length expected by the model\u001b[0m\u001b[0;34m\u001b[0m\u001b[0;34m\u001b[0m\u001b[0m\n",
            "\u001b[0;31mNameError\u001b[0m: name 'tokenizer' is not defined"
          ]
        }
      ],
      "source": [
        "text=\"God blesse\"\n",
        "n_word=2\n",
        "prediction(text,n_word)"
      ]
    },
    {
      "cell_type": "code",
      "execution_count": null,
      "metadata": {
        "id": "DTy6avpnFCOQ",
        "outputId": "d146a469-ebec-4fcf-97d8-f61ff314a21e"
      },
      "outputs": [
        {
          "data": {
            "text/plain": [
              "'The Tragedie of Hamlet by william shakespeare 1599'"
            ]
          },
          "execution_count": 49,
          "metadata": {},
          "output_type": "execute_result"
        }
      ],
      "source": [
        "text=\"The Tragedie of Hamlet\"\n",
        "n_word=4\n",
        "prediction(text,n_word)"
      ]
    },
    {
      "cell_type": "markdown",
      "metadata": {
        "id": "WF_lDQ60FCOR"
      },
      "source": [
        "## 🔥 **Conclusion:**\n",
        "- This project demonstrates how an LSTM model can be used to predict the next word in a sequence, using *Hamlet* as training data.\n",
        "- The model can generate authentic-looking Shakespearean text based on the input sequence, providing a unique exploration into the world of natural language generation!\n"
      ]
    }
  ],
  "metadata": {
    "kaggle": {
      "accelerator": "none",
      "dataSources": [
        {
          "datasetId": 2075,
          "sourceId": 3521,
          "sourceType": "datasetVersion"
        }
      ],
      "dockerImageVersionId": 30761,
      "isGpuEnabled": false,
      "isInternetEnabled": true,
      "language": "python",
      "sourceType": "notebook"
    },
    "kernelspec": {
      "display_name": "Python 3",
      "name": "python3"
    },
    "language_info": {
      "codemirror_mode": {
        "name": "ipython",
        "version": 3
      },
      "file_extension": ".py",
      "mimetype": "text/x-python",
      "name": "python",
      "nbconvert_exporter": "python",
      "pygments_lexer": "ipython3",
      "version": "3.10.0"
    },
    "colab": {
      "provenance": [],
      "gpuType": "T4",
      "include_colab_link": true
    },
    "accelerator": "GPU"
  },
  "nbformat": 4,
  "nbformat_minor": 0
}